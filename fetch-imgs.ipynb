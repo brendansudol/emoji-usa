{
 "cells": [
  {
   "cell_type": "code",
   "execution_count": 1,
   "metadata": {
    "collapsed": true
   },
   "outputs": [],
   "source": [
    "import json\n",
    "import requests\n",
    "\n",
    "from time import sleep\n",
    "from urllib.request import urlretrieve\n",
    "\n",
    "from bs4 import BeautifulSoup"
   ]
  },
  {
   "cell_type": "code",
   "execution_count": 2,
   "metadata": {
    "collapsed": true
   },
   "outputs": [],
   "source": [
    "def fetch(url):\n",
    "    print('fetching {}'.format(url))\n",
    "    return BeautifulSoup(requests.get(url).content, \"html.parser\")\n",
    "\n",
    "\n",
    "def get_imgs(soup):\n",
    "    divs = soup.findAll('div', class_='vendor-rollout-target')\n",
    "\n",
    "    if not divs:\n",
    "        return\n",
    "    \n",
    "    results = []\n",
    "    for d in divs:\n",
    "        img = d.find('img')\n",
    "        results.append({\n",
    "            'title': d.find('a').text,\n",
    "            'alt': img.get('alt'),\n",
    "            'size': '{}x{}'.format(img.get('width'), img.get('height')),\n",
    "            'url': img.get('srcset').split(' ')[0],\n",
    "            'url2': img.get('src'),\n",
    "        })\n",
    "\n",
    "    return results"
   ]
  },
  {
   "cell_type": "code",
   "execution_count": 3,
   "metadata": {},
   "outputs": [
    {
     "data": {
      "text/plain": [
       "[[':outbox_tray:', '📤'],\n",
       " [':nauseated_face:', '🤢'],\n",
       " [':OK_button:', '🆗'],\n",
       " [':raising_hands:', '🙌'],\n",
       " [':globe_with_meridians:', '🌐']]"
      ]
     },
     "execution_count": 3,
     "metadata": {},
     "output_type": "execute_result"
    }
   ],
   "source": [
    "with open('data/popular-emojis.json') as f:\n",
    "    data = json.load(f)\n",
    "\n",
    "data[:5]"
   ]
  },
  {
   "cell_type": "code",
   "execution_count": 4,
   "metadata": {
    "scrolled": false
   },
   "outputs": [
    {
     "name": "stdout",
     "output_type": "stream",
     "text": [
      "1: :outbox_tray:...\n",
      "fetching http://emojipedia.org/search/?q=📤\n",
      "2: :nauseated_face:...\n",
      "fetching http://emojipedia.org/search/?q=🤢\n"
     ]
    }
   ],
   "source": [
    "img_data = []\n",
    "for i, d in enumerate(data[:2]):\n",
    "    name, emoji = d\n",
    "    print('{}: {}...'.format(i + 1, name))\n",
    "\n",
    "    url = 'http://emojipedia.org/search/?q={}'.format(emoji)\n",
    "    soup = fetch(url)\n",
    "    imgs = get_imgs(soup)\n",
    "\n",
    "    if not imgs:\n",
    "        print('\\tno imgs found :(')\n",
    "        continue\n",
    "\n",
    "    img_data.append({'name': name, 'emoji': emoji, 'imgs': imgs})\n",
    "\n",
    "    if i % 5 == 0:\n",
    "        sleep(1)"
   ]
  },
  {
   "cell_type": "code",
   "execution_count": 5,
   "metadata": {
    "collapsed": true
   },
   "outputs": [],
   "source": [
    "for i, d in enumerate(img_data):\n",
    "    name_norm = d['name'].replace(':', '').lower()\n",
    "    tw, = [i for i in d['imgs'] if i['title'] == 'Twitter']\n",
    "    urlretrieve(tw['url'], 'img/{}.png'.format(name_norm))\n",
    "\n",
    "    if i % 5 == 0:\n",
    "        sleep(1)"
   ]
  }
 ],
 "metadata": {
  "kernelspec": {
   "display_name": "Python 3",
   "language": "python",
   "name": "python3"
  },
  "language_info": {
   "codemirror_mode": {
    "name": "ipython",
    "version": 3
   },
   "file_extension": ".py",
   "mimetype": "text/x-python",
   "name": "python",
   "nbconvert_exporter": "python",
   "pygments_lexer": "ipython3",
   "version": "3.6.0"
  }
 },
 "nbformat": 4,
 "nbformat_minor": 2
}
