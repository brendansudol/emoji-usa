{
 "cells": [
  {
   "cell_type": "code",
   "execution_count": 1,
   "metadata": {
    "collapsed": true
   },
   "outputs": [],
   "source": [
    "import json\n",
    "import requests\n",
    "\n",
    "from time import sleep\n",
    "from urllib.request import urlretrieve\n",
    "\n",
    "from bs4 import BeautifulSoup\n",
    "from IPython.display import display, HTML, Image"
   ]
  },
  {
   "cell_type": "code",
   "execution_count": 6,
   "metadata": {
    "collapsed": true
   },
   "outputs": [],
   "source": [
    "def fetch(url):\n",
    "    return BeautifulSoup(requests.get(url).content, \"html.parser\")\n",
    "\n",
    "\n",
    "def get_imgs(soup):\n",
    "    divs = soup.findAll('div', class_='vendor-rollout-target')\n",
    "\n",
    "    if not divs:\n",
    "        return\n",
    "    \n",
    "    results = []\n",
    "    for d in divs:\n",
    "        img = d.find('img')\n",
    "        results.append({\n",
    "            'title': d.find('a').text,\n",
    "            'alt': img.get('alt'),\n",
    "            'size': '{}x{}'.format(img.get('width'), img.get('height')),\n",
    "            'url': img.get('srcset').split(' ')[0],\n",
    "            'url2': img.get('src'),\n",
    "        })\n",
    "\n",
    "    return results"
   ]
  },
  {
   "cell_type": "code",
   "execution_count": 3,
   "metadata": {},
   "outputs": [
    {
     "data": {
      "text/plain": [
       "[[':outbox_tray:', '📤'],\n",
       " [':nauseated_face:', '🤢'],\n",
       " [':OK_button:', '🆗'],\n",
       " [':raising_hands:', '🙌'],\n",
       " [':globe_with_meridians:', '🌐']]"
      ]
     },
     "execution_count": 3,
     "metadata": {},
     "output_type": "execute_result"
    }
   ],
   "source": [
    "with open('data/popular-emojis.json') as f:\n",
    "    data = json.load(f)\n",
    "\n",
    "data[:5]"
   ]
  },
  {
   "cell_type": "code",
   "execution_count": 12,
   "metadata": {
    "scrolled": false
   },
   "outputs": [
    {
     "name": "stdout",
     "output_type": "stream",
     "text": [
      "1 of 363 complete (:outbox_tray:)...\n",
      "11 of 363 complete (:link:)...\n",
      "21 of 363 complete (:blossom:)...\n",
      "31 of 363 complete (:flashlight:)...\n",
      "41 of 363 complete (:person_getting_massage:)...\n",
      "51 of 363 complete (:right-pointing_magnifying_glass:)...\n",
      "61 of 363 complete (:person_pouting:)...\n",
      "71 of 363 complete (:cloud_with_lightning_and_rain:)...\n",
      "81 of 363 complete (:volleyball:)...\n",
      "91 of 363 complete (:lion_face:)...\n",
      "101 of 363 complete (:candle:)...\n",
      "111 of 363 complete (:litter_in_bin_sign:)...\n",
      "121 of 363 complete (:family:)...\n",
      "131 of 363 complete (:cat_face_with_wry_smile:)...\n",
      "141 of 363 complete (:call_me_hand:)...\n",
      "151 of 363 complete (:oncoming_bus:)...\n",
      "161 of 363 complete (:dove:)...\n",
      "171 of 363 complete (:shark:)...\n",
      "181 of 363 complete (:heavy_plus_sign:)...\n",
      "191 of 363 complete (:nine_o’clock:)...\n",
      "201 of 363 complete (:four_leaf_clover:)...\n",
      "211 of 363 complete (:palm_tree:)...\n",
      "221 of 363 complete (:pensive_face:)...\n",
      "231 of 363 complete (:tongue:)...\n",
      "241 of 363 complete (:spoon:)...\n",
      "251 of 363 complete (:racing_car:)...\n",
      "261 of 363 complete (:thermometer:)...\n",
      "271 of 363 complete (:volcano:)...\n",
      "281 of 363 complete (:bomb:)...\n",
      "291 of 363 complete (:red_heart:)...\n",
      "301 of 363 complete (:pill:)...\n",
      "311 of 363 complete (:nine-thirty:)...\n",
      "321 of 363 complete (:hot_springs:)...\n",
      "uh-oh! error with :wavy_dash:\n",
      "331 of 363 complete (:astonished_face:)...\n",
      "341 of 363 complete (:money-mouth_face:)...\n",
      "351 of 363 complete (:grimacing_face:)...\n",
      "361 of 363 complete (:speaking_head:)...\n"
     ]
    }
   ],
   "source": [
    "img_data = []\n",
    "for i, d in enumerate(data):\n",
    "    name, emoji = d\n",
    "    url = 'http://emojipedia.org/search/?q={}'.format(emoji)\n",
    "    soup = fetch(url)\n",
    "    \n",
    "    try:\n",
    "        imgs = get_imgs(soup)\n",
    "    except Exception as e:\n",
    "        print('uh-oh! error with {}'.format(name))\n",
    "        continue\n",
    "\n",
    "    img_data.append({'name': name, 'emoji': emoji, 'imgs': imgs})\n",
    "\n",
    "    if i % 10 == 0:\n",
    "        print('{} of {} complete ({})...'.format(i + 1, len(data), name))\n",
    "        sleep(1)"
   ]
  },
  {
   "cell_type": "code",
   "execution_count": 9,
   "metadata": {
    "collapsed": true
   },
   "outputs": [],
   "source": [
    "for i, d in enumerate(img_data):\n",
    "    name_norm = d['name'].replace(':', '').lower()\n",
    "    tw, = [i for i in d['imgs'] if i['title'] == 'Twitter']\n",
    "    urlretrieve(tw['url'], 'img/{}.png'.format(name_norm))\n",
    "\n",
    "    if i % 5 == 0:\n",
    "        sleep(1)"
   ]
  },
  {
   "cell_type": "code",
   "execution_count": 4,
   "metadata": {},
   "outputs": [
    {
     "data": {
      "text/html": [
       "<img style='margin:0;width:100px;float:left;' src='img/outbox_tray.png'/><img style='margin:0;width:100px;float:left;' src='img/nauseated_face.png'/><img style='margin:0;width:100px;float:left;' src='img/ok_button.png'/><img style='margin:0;width:100px;float:left;' src='img/raising_hands.png'/><img style='margin:0;width:100px;float:left;' src='img/globe_with_meridians.png'/><img style='margin:0;width:100px;float:left;' src='img/black_circle.png'/><img style='margin:0;width:100px;float:left;' src='img/curly_loop.png'/><img style='margin:0;width:100px;float:left;' src='img/smiling_face.png'/><img style='margin:0;width:100px;float:left;' src='img/joker.png'/><img style='margin:0;width:100px;float:left;' src='img/dollar_banknote.png'/><img style='margin:0;width:100px;float:left;' src='img/link.png'/><img style='margin:0;width:100px;float:left;' src='img/heavy_large_circle.png'/><img style='margin:0;width:100px;float:left;' src='img/eye.png'/><img style='margin:0;width:100px;float:left;' src='img/chipmunk.png'/><img style='margin:0;width:100px;float:left;' src='img/red_triangle_pointed_down.png'/><img style='margin:0;width:100px;float:left;' src='img/female_sign.png'/><img style='margin:0;width:100px;float:left;' src='img/penguin.png'/><img style='margin:0;width:100px;float:left;' src='img/lizard.png'/><img style='margin:0;width:100px;float:left;' src='img/hibiscus.png'/><img style='margin:0;width:100px;float:left;' src='img/sleeping_face.png'/>"
      ],
      "text/plain": [
       "<IPython.core.display.HTML object>"
      ]
     },
     "metadata": {},
     "output_type": "display_data"
    }
   ],
   "source": [
    "stylez = 'margin:0;width:100px;float:left;'\n",
    "imgs = ''.join([\n",
    "    \"<img style='{}' src='img/{}.png'/>\".format(stylez, d[0].replace(':', '').lower())\n",
    "    for d in data[:20]\n",
    "])\n",
    "\n",
    "display(HTML(imgs))"
   ]
  }
 ],
 "metadata": {
  "kernelspec": {
   "display_name": "Python 3",
   "language": "python",
   "name": "python3"
  },
  "language_info": {
   "codemirror_mode": {
    "name": "ipython",
    "version": 3
   },
   "file_extension": ".py",
   "mimetype": "text/x-python",
   "name": "python",
   "nbconvert_exporter": "python",
   "pygments_lexer": "ipython3",
   "version": "3.6.0"
  }
 },
 "nbformat": 4,
 "nbformat_minor": 2
}
